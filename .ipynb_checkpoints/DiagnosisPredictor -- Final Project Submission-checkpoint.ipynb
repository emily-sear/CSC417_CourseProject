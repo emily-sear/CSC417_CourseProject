{
 "cells": [
  {
   "cell_type": "code",
   "execution_count": 52,
   "id": "0dc36abc",
   "metadata": {},
   "outputs": [],
   "source": [
    "# Emily Sear\n",
    "# CSC 417\n",
    "# Final Project - NLP to create a diganosis predictor given a brief description of symptoms"
   ]
  },
  {
   "cell_type": "code",
   "execution_count": 1,
   "id": "8bb8a9e7",
   "metadata": {},
   "outputs": [],
   "source": [
    "import pandas as pd\n",
    "from sklearn.model_selection import train_test_split\n",
    "import spacy as spacy"
   ]
  },
  {
   "cell_type": "code",
   "execution_count": 2,
   "id": "0c5b9026",
   "metadata": {},
   "outputs": [
    {
     "data": {
      "text/html": [
       "<div>\n",
       "<style scoped>\n",
       "    .dataframe tbody tr th:only-of-type {\n",
       "        vertical-align: middle;\n",
       "    }\n",
       "\n",
       "    .dataframe tbody tr th {\n",
       "        vertical-align: top;\n",
       "    }\n",
       "\n",
       "    .dataframe thead th {\n",
       "        text-align: right;\n",
       "    }\n",
       "</style>\n",
       "<table border=\"1\" class=\"dataframe\">\n",
       "  <thead>\n",
       "    <tr style=\"text-align: right;\">\n",
       "      <th></th>\n",
       "      <th>id</th>\n",
       "      <th>diganosis</th>\n",
       "      <th>diganosis.1</th>\n",
       "      <th>text</th>\n",
       "    </tr>\n",
       "  </thead>\n",
       "  <tbody>\n",
       "    <tr>\n",
       "      <th>0</th>\n",
       "      <td>0</td>\n",
       "      <td>PSORIASIS</td>\n",
       "      <td>Psoriasis</td>\n",
       "      <td>I have been experiencing a skin rash on my arm...</td>\n",
       "    </tr>\n",
       "    <tr>\n",
       "      <th>1</th>\n",
       "      <td>1</td>\n",
       "      <td>PSORIASIS</td>\n",
       "      <td>Psoriasis</td>\n",
       "      <td>My skin has been peeling, especially on my kne...</td>\n",
       "    </tr>\n",
       "    <tr>\n",
       "      <th>2</th>\n",
       "      <td>2</td>\n",
       "      <td>PSORIASIS</td>\n",
       "      <td>Psoriasis</td>\n",
       "      <td>I have been experiencing joint pain in my fing...</td>\n",
       "    </tr>\n",
       "    <tr>\n",
       "      <th>3</th>\n",
       "      <td>3</td>\n",
       "      <td>PSORIASIS</td>\n",
       "      <td>Psoriasis</td>\n",
       "      <td>There is a silver like dusting on my skin, esp...</td>\n",
       "    </tr>\n",
       "    <tr>\n",
       "      <th>4</th>\n",
       "      <td>4</td>\n",
       "      <td>PSORIASIS</td>\n",
       "      <td>Psoriasis</td>\n",
       "      <td>My nails have small dents or pits in them, and...</td>\n",
       "    </tr>\n",
       "  </tbody>\n",
       "</table>\n",
       "</div>"
      ],
      "text/plain": [
       "   id  diganosis diganosis.1   \n",
       "0   0  PSORIASIS   Psoriasis  \\\n",
       "1   1  PSORIASIS   Psoriasis   \n",
       "2   2  PSORIASIS   Psoriasis   \n",
       "3   3  PSORIASIS   Psoriasis   \n",
       "4   4  PSORIASIS   Psoriasis   \n",
       "\n",
       "                                                text  \n",
       "0  I have been experiencing a skin rash on my arm...  \n",
       "1  My skin has been peeling, especially on my kne...  \n",
       "2  I have been experiencing joint pain in my fing...  \n",
       "3  There is a silver like dusting on my skin, esp...  \n",
       "4  My nails have small dents or pits in them, and...  "
      ]
     },
     "execution_count": 2,
     "metadata": {},
     "output_type": "execute_result"
    }
   ],
   "source": [
    "nlp = spacy.blank(\"en\")\n",
    "data = pd.read_csv('Symptom2Disease.csv')\n",
    "data.shape[0]\n",
    "data.head()"
   ]
  },
  {
   "cell_type": "code",
   "execution_count": 3,
   "id": "70d9aaec",
   "metadata": {
    "scrolled": true
   },
   "outputs": [
    {
     "data": {
      "text/html": [
       "<div>\n",
       "<style scoped>\n",
       "    .dataframe tbody tr th:only-of-type {\n",
       "        vertical-align: middle;\n",
       "    }\n",
       "\n",
       "    .dataframe tbody tr th {\n",
       "        vertical-align: top;\n",
       "    }\n",
       "\n",
       "    .dataframe thead th {\n",
       "        text-align: right;\n",
       "    }\n",
       "</style>\n",
       "<table border=\"1\" class=\"dataframe\">\n",
       "  <thead>\n",
       "    <tr style=\"text-align: right;\">\n",
       "      <th></th>\n",
       "      <th>id</th>\n",
       "      <th>diganosis</th>\n",
       "      <th>diganosis.1</th>\n",
       "      <th>text</th>\n",
       "    </tr>\n",
       "  </thead>\n",
       "  <tbody>\n",
       "    <tr>\n",
       "      <th>0</th>\n",
       "      <td>62</td>\n",
       "      <td>ALLERGY</td>\n",
       "      <td>allergy</td>\n",
       "      <td>I have trouble breathing and get short of brea...</td>\n",
       "    </tr>\n",
       "    <tr>\n",
       "      <th>1</th>\n",
       "      <td>72</td>\n",
       "      <td>HYPERTENSION</td>\n",
       "      <td>Hypertension</td>\n",
       "      <td>I've had intense aches in my chest, a head  pa...</td>\n",
       "    </tr>\n",
       "    <tr>\n",
       "      <th>2</th>\n",
       "      <td>43</td>\n",
       "      <td>FUNGAL INFECTION</td>\n",
       "      <td>Fungal infection</td>\n",
       "      <td>There are red, bumpy areas on my skin, and I'v...</td>\n",
       "    </tr>\n",
       "    <tr>\n",
       "      <th>3</th>\n",
       "      <td>173</td>\n",
       "      <td>DIMORPHIC HEMORRHOIDS</td>\n",
       "      <td>Dimorphic Hemorrhoids</td>\n",
       "      <td>It's incredibly difficult for me to use the re...</td>\n",
       "    </tr>\n",
       "    <tr>\n",
       "      <th>4</th>\n",
       "      <td>236</td>\n",
       "      <td>JAUNDICE</td>\n",
       "      <td>Jaundice</td>\n",
       "      <td>I've been feeling scratchy, sick, and worn out...</td>\n",
       "    </tr>\n",
       "  </tbody>\n",
       "</table>\n",
       "</div>"
      ],
      "text/plain": [
       "    id              diganosis            diganosis.1   \n",
       "0   62                ALLERGY                allergy  \\\n",
       "1   72           HYPERTENSION           Hypertension   \n",
       "2   43       FUNGAL INFECTION       Fungal infection   \n",
       "3  173  DIMORPHIC HEMORRHOIDS  Dimorphic Hemorrhoids   \n",
       "4  236               JAUNDICE               Jaundice   \n",
       "\n",
       "                                                text  \n",
       "0  I have trouble breathing and get short of brea...  \n",
       "1  I've had intense aches in my chest, a head  pa...  \n",
       "2  There are red, bumpy areas on my skin, and I'v...  \n",
       "3  It's incredibly difficult for me to use the re...  \n",
       "4  I've been feeling scratchy, sick, and worn out...  "
      ]
     },
     "execution_count": 3,
     "metadata": {},
     "output_type": "execute_result"
    }
   ],
   "source": [
    "# shuffle the data\n",
    "data = data.sample(frac=1).reset_index(drop=True)\n",
    "data.head()"
   ]
  },
  {
   "cell_type": "code",
   "execution_count": 4,
   "id": "888fbff5",
   "metadata": {
    "scrolled": true
   },
   "outputs": [],
   "source": [
    "data = list(data[[\"text\", \"diganosis\"]].sample(frac=1).itertuples(index=False, name=None))\n"
   ]
  },
  {
   "cell_type": "code",
   "execution_count": 5,
   "id": "83e2ae76",
   "metadata": {},
   "outputs": [],
   "source": [
    "train_data = data[:900]\n",
    "dev_data = data[900:1080]\n",
    "test_data = data[1080:]"
   ]
  },
  {
   "cell_type": "code",
   "execution_count": 6,
   "id": "a50a10e9",
   "metadata": {},
   "outputs": [],
   "source": [
    "# convert data \n",
    "def convert(data, outfile): \n",
    "    db = spacy.tokens.DocBin()\n",
    "    docs = []\n",
    "    for doc, label in nlp.pipe(data, as_tuples=True):\n",
    "        doc.cats[label] = True\n",
    "        db.add(doc)\n",
    "    db.to_disk(outfile)"
   ]
  },
  {
   "cell_type": "code",
   "execution_count": 7,
   "id": "f319fcb1",
   "metadata": {
    "scrolled": true
   },
   "outputs": [],
   "source": [
    "convert(train_data, \"./train_data.spacy\")\n",
    "convert(dev_data, \"./dev_data.spacy\")\n",
    "convert(test_data, \"./test_data.spacy\")"
   ]
  },
  {
   "cell_type": "code",
   "execution_count": 13,
   "id": "67d5a4a0",
   "metadata": {
    "scrolled": false
   },
   "outputs": [
    {
     "name": "stdout",
     "output_type": "stream",
     "text": [
      "[i] Generated config template specific for your use case\n",
      "- Language: en\n",
      "- Pipeline: textcat\n",
      "- Optimize for: efficiency\n",
      "- Hardware: CPU\n",
      "- Transformer: None\n",
      "[+] Auto-filled config with all values\n",
      "[+] Saved config\n",
      "config.cfg\n",
      "You can now add your data and train your pipeline:\n",
      "python -m spacy train config.cfg --paths.train ./train.spacy --paths.dev ./dev.spacy\n"
     ]
    }
   ],
   "source": [
    "!python -m spacy init config  --lang en --pipeline textcat --optimize efficiency --force config.cfg"
   ]
  },
  {
   "cell_type": "code",
   "execution_count": null,
   "id": "6223d8ee",
   "metadata": {
    "scrolled": false
   },
   "outputs": [],
   "source": [
    "!python -m spacy train config.cfg --paths.train ./train_data.spacy --paths.dev ./dev_data.spacy --output model-accuracy --verbose"
   ]
  },
  {
   "cell_type": "code",
   "execution_count": 10,
   "id": "d846112a",
   "metadata": {
    "scrolled": false
   },
   "outputs": [
    {
     "name": "stdout",
     "output_type": "stream",
     "text": [
      "[i] Using CPU\n",
      "\u001b[1m\n",
      "================================== Results ==================================\u001b[0m\n",
      "\n",
      "TOK                 100.00\n",
      "TEXTCAT (macro F)   97.34 \n",
      "SPEED               410293\n",
      "\n",
      "\u001b[1m\n",
      "=========================== Textcat F (per label) ===========================\u001b[0m\n",
      "\n",
      "                                      P        R        F\n",
      "PNEUMONIA                        100.00   100.00   100.00\n",
      "IMPETIGO                         100.00    71.43    83.33\n",
      "VARICOSE VEINS                   100.00    90.00    94.74\n",
      "FUNGAL INFECTION                 100.00   100.00   100.00\n",
      "JAUNDICE                         100.00   100.00   100.00\n",
      "DIMORPHIC HEMORRHOIDS            100.00   100.00   100.00\n",
      "MALARIA                          100.00   100.00   100.00\n",
      "PEPTIC ULCER DISEASE             100.00   100.00   100.00\n",
      "COMMON COLD                      100.00   100.00   100.00\n",
      "PSORIASIS                        100.00    60.00    75.00\n",
      "ALLERGY                          100.00   100.00   100.00\n",
      "CHICKEN POX                      100.00   100.00   100.00\n",
      "HYPERTENSION                     100.00   100.00   100.00\n",
      "DRUG REACTION                    100.00   100.00   100.00\n",
      "DIABETES                         100.00   100.00   100.00\n",
      "CERVICAL SPONDYLOSIS             100.00   100.00   100.00\n",
      "URINARY TRACT INFECTION          100.00    80.00    88.89\n",
      "ARTHRITIS                        100.00   100.00   100.00\n",
      "TYPHOID                          100.00   100.00   100.00\n",
      "DENGUE                            88.89   100.00    94.12\n",
      "MIGRAINE                         100.00   100.00   100.00\n",
      "GASTROESOPHAGEAL REFLUX DISEASE   100.00   100.00   100.00\n",
      "ACNE                             100.00   100.00   100.00\n",
      "BRONCHIAL ASTHMA                 100.00   100.00   100.00\n",
      "\n",
      "\u001b[1m\n",
      "======================== Textcat ROC AUC (per label) ========================\u001b[0m\n",
      "\n",
      "                                 ROC AUC\n",
      "PNEUMONIA                           1.00\n",
      "IMPETIGO                            1.00\n",
      "VARICOSE VEINS                      1.00\n",
      "FUNGAL INFECTION                    1.00\n",
      "JAUNDICE                            1.00\n",
      "DIMORPHIC HEMORRHOIDS               1.00\n",
      "MALARIA                             1.00\n",
      "PEPTIC ULCER DISEASE                1.00\n",
      "COMMON COLD                         1.00\n",
      "PSORIASIS                           1.00\n",
      "ALLERGY                             1.00\n",
      "CHICKEN POX                         1.00\n",
      "HYPERTENSION                        1.00\n",
      "DRUG REACTION                       1.00\n",
      "DIABETES                            1.00\n",
      "CERVICAL SPONDYLOSIS                1.00\n",
      "URINARY TRACT INFECTION             1.00\n",
      "ARTHRITIS                           1.00\n",
      "TYPHOID                             1.00\n",
      "DENGUE                              1.00\n",
      "MIGRAINE                            1.00\n",
      "GASTROESOPHAGEAL REFLUX DISEASE      1.00\n",
      "ACNE                                1.00\n",
      "BRONCHIAL ASTHMA                    1.00\n",
      "\n"
     ]
    }
   ],
   "source": [
    "!python -m spacy evaluate ./model/model-best/ ./test_data.spacy "
   ]
  },
  {
   "cell_type": "code",
   "execution_count": 12,
   "id": "c20927dc",
   "metadata": {},
   "outputs": [
    {
     "data": {
      "text/plain": [
       "{'PNEUMONIA': 9.685400073067285e-07,\n",
       " 'IMPETIGO': 2.69296492660942e-07,\n",
       " 'VARICOSE VEINS': 1.3929277997704048e-07,\n",
       " 'FUNGAL INFECTION': 1.839542619563872e-06,\n",
       " 'JAUNDICE': 2.51103278969822e-06,\n",
       " 'DIMORPHIC HEMORRHOIDS': 1.7032590449161944e-07,\n",
       " 'MALARIA': 1.1665860256471206e-05,\n",
       " 'PEPTIC ULCER DISEASE': 1.0086430393130286e-06,\n",
       " 'COMMON COLD': 1.0708304216677789e-06,\n",
       " 'PSORIASIS': 3.272673438914353e-07,\n",
       " 'ALLERGY': 2.8842666779382853e-06,\n",
       " 'CHICKEN POX': 3.658290026464783e-08,\n",
       " 'HYPERTENSION': 6.0253700212342665e-05,\n",
       " 'DRUG REACTION': 6.926927653694293e-07,\n",
       " 'DIABETES': 1.1546692348929355e-06,\n",
       " 'CERVICAL SPONDYLOSIS': 2.866413888114039e-05,\n",
       " 'URINARY TRACT INFECTION': 6.055526569070935e-07,\n",
       " 'ARTHRITIS': 3.4451118153810967e-06,\n",
       " 'TYPHOID': 2.29320448852377e-06,\n",
       " 'DENGUE': 5.004833951716137e-07,\n",
       " 'MIGRAINE': 0.999873161315918,\n",
       " 'GASTROESOPHAGEAL REFLUX DISEASE': 9.020874927045952e-07,\n",
       " 'ACNE': 1.5371513484296884e-07,\n",
       " 'BRONCHIAL ASTHMA': 5.105261607241118e-06}"
      ]
     },
     "execution_count": 12,
     "metadata": {},
     "output_type": "execute_result"
    }
   ],
   "source": [
    "import spacy \n",
    "trained_nlp = spacy.load(\"./model/model-best/\")\n",
    " \n",
    "text = \"I have been experiencing acidity, indigestion, headaches, and blurred and distorted vision, as well as excessive hunger, a stiff neck, depression, irritability, and visual disturbance.\"\n",
    "docs = list(trained_nlp.pipe(text))\n",
    "for doc in docs:\n",
    "    print(doc.text)\n",
    "    print(f\"{doc.cats}\\n\")\n"
   ]
  },
  {
   "cell_type": "code",
   "execution_count": 73,
   "id": "0882e69b",
   "metadata": {},
   "outputs": [],
   "source": [
    "def diganoses_chatbot():\n",
    "    print(\"this is your diganoses chatbot, please list your symptoms and I will predict your diganoses for you.\")\n",
    "    textDoc = input(\"What are your symptonms>\\n\")\n",
    "    print(textDoc)\n",
    "    "
   ]
  },
  {
   "cell_type": "code",
   "execution_count": 66,
   "id": "4fa0f60a",
   "metadata": {},
   "outputs": [
    {
     "name": "stdout",
     "output_type": "stream",
     "text": [
      "this is your diganoses chatbot, please list your symptoms and I will predict your diganoses for you.\n",
      "What are your symptonms>\n",
      "Head hurting in left side of head, neck pain, shoulder pain and I am on my period\n",
      "Head hurting in left side of head, neck pain, shoulder pain and I am on my period\n"
     ]
    }
   ],
   "source": [
    "diganoses_chatbot()"
   ]
  },
  {
   "cell_type": "code",
   "execution_count": null,
   "id": "00c4701a",
   "metadata": {},
   "outputs": [],
   "source": []
  }
 ],
 "metadata": {
  "kernelspec": {
   "display_name": "Python 3 (ipykernel)",
   "language": "python",
   "name": "python3"
  },
  "language_info": {
   "codemirror_mode": {
    "name": "ipython",
    "version": 3
   },
   "file_extension": ".py",
   "mimetype": "text/x-python",
   "name": "python",
   "nbconvert_exporter": "python",
   "pygments_lexer": "ipython3",
   "version": "3.9.13"
  }
 },
 "nbformat": 4,
 "nbformat_minor": 5
}
