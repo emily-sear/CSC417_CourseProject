{
 "cells": [
  {
   "cell_type": "code",
   "execution_count": 52,
   "id": "0dc36abc",
   "metadata": {},
   "outputs": [],
   "source": [
    "# Emily Sear\n",
    "# CSC 417\n",
    "# Final Project - NLP to create a diganosis predictor given a brief description of symptoms"
   ]
  },
  {
   "cell_type": "code",
   "execution_count": 1,
   "id": "8bb8a9e7",
   "metadata": {},
   "outputs": [],
   "source": [
    "import pandas as pd\n",
    "import spacy as spacy"
   ]
  },
  {
   "cell_type": "code",
   "execution_count": 2,
   "id": "0c5b9026",
   "metadata": {},
   "outputs": [
    {
     "data": {
      "text/html": [
       "<div>\n",
       "<style scoped>\n",
       "    .dataframe tbody tr th:only-of-type {\n",
       "        vertical-align: middle;\n",
       "    }\n",
       "\n",
       "    .dataframe tbody tr th {\n",
       "        vertical-align: top;\n",
       "    }\n",
       "\n",
       "    .dataframe thead th {\n",
       "        text-align: right;\n",
       "    }\n",
       "</style>\n",
       "<table border=\"1\" class=\"dataframe\">\n",
       "  <thead>\n",
       "    <tr style=\"text-align: right;\">\n",
       "      <th></th>\n",
       "      <th>id</th>\n",
       "      <th>diganosis</th>\n",
       "      <th>diganosis.1</th>\n",
       "      <th>text</th>\n",
       "    </tr>\n",
       "  </thead>\n",
       "  <tbody>\n",
       "    <tr>\n",
       "      <th>0</th>\n",
       "      <td>0</td>\n",
       "      <td>PSORIASIS</td>\n",
       "      <td>Psoriasis</td>\n",
       "      <td>I have been experiencing a skin rash on my arm...</td>\n",
       "    </tr>\n",
       "    <tr>\n",
       "      <th>1</th>\n",
       "      <td>1</td>\n",
       "      <td>PSORIASIS</td>\n",
       "      <td>Psoriasis</td>\n",
       "      <td>My skin has been peeling, especially on my kne...</td>\n",
       "    </tr>\n",
       "    <tr>\n",
       "      <th>2</th>\n",
       "      <td>2</td>\n",
       "      <td>PSORIASIS</td>\n",
       "      <td>Psoriasis</td>\n",
       "      <td>I have been experiencing joint pain in my fing...</td>\n",
       "    </tr>\n",
       "    <tr>\n",
       "      <th>3</th>\n",
       "      <td>3</td>\n",
       "      <td>PSORIASIS</td>\n",
       "      <td>Psoriasis</td>\n",
       "      <td>There is a silver like dusting on my skin, esp...</td>\n",
       "    </tr>\n",
       "    <tr>\n",
       "      <th>4</th>\n",
       "      <td>4</td>\n",
       "      <td>PSORIASIS</td>\n",
       "      <td>Psoriasis</td>\n",
       "      <td>My nails have small dents or pits in them, and...</td>\n",
       "    </tr>\n",
       "  </tbody>\n",
       "</table>\n",
       "</div>"
      ],
      "text/plain": [
       "   id  diganosis diganosis.1   \n",
       "0   0  PSORIASIS   Psoriasis  \\\n",
       "1   1  PSORIASIS   Psoriasis   \n",
       "2   2  PSORIASIS   Psoriasis   \n",
       "3   3  PSORIASIS   Psoriasis   \n",
       "4   4  PSORIASIS   Psoriasis   \n",
       "\n",
       "                                                text  \n",
       "0  I have been experiencing a skin rash on my arm...  \n",
       "1  My skin has been peeling, especially on my kne...  \n",
       "2  I have been experiencing joint pain in my fing...  \n",
       "3  There is a silver like dusting on my skin, esp...  \n",
       "4  My nails have small dents or pits in them, and...  "
      ]
     },
     "execution_count": 2,
     "metadata": {},
     "output_type": "execute_result"
    }
   ],
   "source": [
    "nlp = spacy.blank(\"en\")\n",
    "data = pd.read_csv('Symptom2Disease.csv')\n",
    "data.shape[0]\n",
    "data.head()"
   ]
  },
  {
   "cell_type": "code",
   "execution_count": 3,
   "id": "70d9aaec",
   "metadata": {
    "scrolled": true
   },
   "outputs": [
    {
     "data": {
      "text/html": [
       "<div>\n",
       "<style scoped>\n",
       "    .dataframe tbody tr th:only-of-type {\n",
       "        vertical-align: middle;\n",
       "    }\n",
       "\n",
       "    .dataframe tbody tr th {\n",
       "        vertical-align: top;\n",
       "    }\n",
       "\n",
       "    .dataframe thead th {\n",
       "        text-align: right;\n",
       "    }\n",
       "</style>\n",
       "<table border=\"1\" class=\"dataframe\">\n",
       "  <thead>\n",
       "    <tr style=\"text-align: right;\">\n",
       "      <th></th>\n",
       "      <th>id</th>\n",
       "      <th>diganosis</th>\n",
       "      <th>diganosis.1</th>\n",
       "      <th>text</th>\n",
       "    </tr>\n",
       "  </thead>\n",
       "  <tbody>\n",
       "    <tr>\n",
       "      <th>0</th>\n",
       "      <td>62</td>\n",
       "      <td>ALLERGY</td>\n",
       "      <td>allergy</td>\n",
       "      <td>I have trouble breathing and get short of brea...</td>\n",
       "    </tr>\n",
       "    <tr>\n",
       "      <th>1</th>\n",
       "      <td>72</td>\n",
       "      <td>HYPERTENSION</td>\n",
       "      <td>Hypertension</td>\n",
       "      <td>I've had intense aches in my chest, a head  pa...</td>\n",
       "    </tr>\n",
       "    <tr>\n",
       "      <th>2</th>\n",
       "      <td>43</td>\n",
       "      <td>FUNGAL INFECTION</td>\n",
       "      <td>Fungal infection</td>\n",
       "      <td>There are red, bumpy areas on my skin, and I'v...</td>\n",
       "    </tr>\n",
       "    <tr>\n",
       "      <th>3</th>\n",
       "      <td>173</td>\n",
       "      <td>DIMORPHIC HEMORRHOIDS</td>\n",
       "      <td>Dimorphic Hemorrhoids</td>\n",
       "      <td>It's incredibly difficult for me to use the re...</td>\n",
       "    </tr>\n",
       "    <tr>\n",
       "      <th>4</th>\n",
       "      <td>236</td>\n",
       "      <td>JAUNDICE</td>\n",
       "      <td>Jaundice</td>\n",
       "      <td>I've been feeling scratchy, sick, and worn out...</td>\n",
       "    </tr>\n",
       "  </tbody>\n",
       "</table>\n",
       "</div>"
      ],
      "text/plain": [
       "    id              diganosis            diganosis.1   \n",
       "0   62                ALLERGY                allergy  \\\n",
       "1   72           HYPERTENSION           Hypertension   \n",
       "2   43       FUNGAL INFECTION       Fungal infection   \n",
       "3  173  DIMORPHIC HEMORRHOIDS  Dimorphic Hemorrhoids   \n",
       "4  236               JAUNDICE               Jaundice   \n",
       "\n",
       "                                                text  \n",
       "0  I have trouble breathing and get short of brea...  \n",
       "1  I've had intense aches in my chest, a head  pa...  \n",
       "2  There are red, bumpy areas on my skin, and I'v...  \n",
       "3  It's incredibly difficult for me to use the re...  \n",
       "4  I've been feeling scratchy, sick, and worn out...  "
      ]
     },
     "execution_count": 3,
     "metadata": {},
     "output_type": "execute_result"
    }
   ],
   "source": [
    "# shuffle the data\n",
    "data = data.sample(frac=1).reset_index(drop=True)\n",
    "data.head()"
   ]
  },
  {
   "cell_type": "code",
   "execution_count": 4,
   "id": "888fbff5",
   "metadata": {
    "scrolled": true
   },
   "outputs": [],
   "source": [
    "data = list(data[[\"text\", \"diganosis\"]].sample(frac=1).itertuples(index=False, name=None))\n"
   ]
  },
  {
   "cell_type": "code",
   "execution_count": 5,
   "id": "83e2ae76",
   "metadata": {},
   "outputs": [],
   "source": [
    "# split the data (spacy does not work well with sklearn.train_test_split)\n",
    "train_data = data[:900]\n",
    "dev_data = data[900:1080]\n",
    "test_data = data[1080:]"
   ]
  },
  {
   "cell_type": "code",
   "execution_count": 6,
   "id": "a50a10e9",
   "metadata": {},
   "outputs": [],
   "source": [
    "# convert data \n",
    "def convert(data, outfile): \n",
    "    db = spacy.tokens.DocBin()\n",
    "    docs = []\n",
    "    for doc, label in nlp.pipe(data, as_tuples=True):\n",
    "        doc.cats[label] = True\n",
    "        db.add(doc)\n",
    "    db.to_disk(outfile)"
   ]
  },
  {
   "cell_type": "code",
   "execution_count": 7,
   "id": "f319fcb1",
   "metadata": {
    "scrolled": true
   },
   "outputs": [],
   "source": [
    "# convert the data into a way the spacy understands \n",
    "convert(train_data, \"./train_data.spacy\")\n",
    "convert(dev_data, \"./dev_data.spacy\")\n",
    "convert(test_data, \"./test_data.spacy\")"
   ]
  },
  {
   "cell_type": "code",
   "execution_count": 13,
   "id": "67d5a4a0",
   "metadata": {
    "scrolled": false
   },
   "outputs": [
    {
     "name": "stdout",
     "output_type": "stream",
     "text": [
      "[i] Generated config template specific for your use case\n",
      "- Language: en\n",
      "- Pipeline: textcat\n",
      "- Optimize for: efficiency\n",
      "- Hardware: CPU\n",
      "- Transformer: None\n",
      "[+] Auto-filled config with all values\n",
      "[+] Saved config\n",
      "config.cfg\n",
      "You can now add your data and train your pipeline:\n",
      "python -m spacy train config.cfg --paths.train ./train.spacy --paths.dev ./dev.spacy\n"
     ]
    }
   ],
   "source": [
    "# create the config file \n",
    "!python -m spacy init config  --lang en --pipeline textcat --optimize efficiency --force config.cfg"
   ]
  },
  {
   "cell_type": "code",
   "execution_count": 14,
   "id": "6223d8ee",
   "metadata": {
    "scrolled": false
   },
   "outputs": [
    {
     "name": "stdout",
     "output_type": "stream",
     "text": [
      "[+] Created output directory: model-accuracy\n",
      "[i] Saving to output directory: model-accuracy\n",
      "[i] Using CPU\n",
      "\u001b[1m\n",
      "=========================== Initializing pipeline ===========================\u001b[0m\n",
      "[+] Initialized pipeline\n",
      "\u001b[1m\n",
      "============================= Training pipeline =============================\u001b[0m\n",
      "[i] Pipeline: ['textcat']\n",
      "[i] Initial learn rate: 0.001\n",
      "E    #       LOSS TEXTCAT  CATS_SCORE  SCORE \n",
      "---  ------  ------------  ----------  ------\n",
      "  0       0          0.04        0.00    0.00\n",
      "  0     200          6.54       27.20    0.27\n",
      "  1     400          3.02       65.14    0.65\n",
      "  2     600          1.06       84.77    0.85\n",
      "  3     800          0.32       91.63    0.92\n",
      "  4    1000          0.13       93.56    0.94\n",
      "  6    1200          0.05       95.30    0.95\n",
      "  8    1400          0.03       96.17    0.96\n",
      " 11    1600          0.02       97.37    0.97\n",
      " 14    1800          0.01       97.37    0.97\n",
      " 18    2000          0.01       97.37    0.97\n",
      " 23    2200          0.01       97.37    0.97\n",
      " 28    2400          0.00       97.65    0.98\n",
      " 34    2600          0.00       97.65    0.98\n",
      " 40    2800          0.00       97.89    0.98\n",
      " 46    3000          0.00       97.89    0.98\n",
      " 52    3200          0.00       97.89    0.98\n",
      " 58    3400          0.00       98.21    0.98\n",
      " 64    3600          0.00       98.21    0.98\n",
      " 70    3800          0.00       98.21    0.98\n",
      " 75    4000          0.00       98.21    0.98\n",
      " 81    4200          0.00       98.21    0.98\n",
      " 87    4400          0.00       98.21    0.98\n",
      " 93    4600          0.00       98.21    0.98\n",
      " 99    4800          0.00       98.21    0.98\n",
      "105    5000          0.00       98.21    0.98\n",
      "[+] Saved pipeline to output directory\n",
      "model-accuracy\\model-last\n"
     ]
    },
    {
     "name": "stderr",
     "output_type": "stream",
     "text": [
      "[2023-05-03 20:44:00,235] [DEBUG] Config overrides from CLI: ['paths.train', 'paths.dev']\n",
      "[2023-05-03 20:44:00,525] [INFO] Set up nlp object from config\n",
      "[2023-05-03 20:44:00,530] [DEBUG] Loading corpus from path: dev_data.spacy\n",
      "[2023-05-03 20:44:00,530] [DEBUG] Loading corpus from path: train_data.spacy\n",
      "[2023-05-03 20:44:00,530] [INFO] Pipeline: ['textcat']\n",
      "[2023-05-03 20:44:00,532] [INFO] Created vocabulary\n",
      "[2023-05-03 20:44:00,533] [INFO] Finished initializing nlp object\n",
      "[2023-05-03 20:44:00,916] [INFO] Initialized pipeline components: ['textcat']\n",
      "[2023-05-03 20:44:00,922] [DEBUG] Loading corpus from path: dev_data.spacy\n",
      "[2023-05-03 20:44:00,923] [DEBUG] Loading corpus from path: train_data.spacy\n"
     ]
    }
   ],
   "source": [
    "# train the data \n",
    "\n",
    "!python -m spacy train config.cfg --paths.train ./train_data.spacy --paths.dev ./dev_data.spacy --output model-accuracy --verbose"
   ]
  },
  {
   "cell_type": "code",
   "execution_count": 16,
   "id": "d846112a",
   "metadata": {
    "scrolled": false
   },
   "outputs": [
    {
     "name": "stdout",
     "output_type": "stream",
     "text": [
      "[i] Using CPU\n",
      "\u001b[1m\n",
      "================================== Results ==================================\u001b[0m\n",
      "\n",
      "TOK                 100.00\n",
      "TEXTCAT (macro F)   97.34 \n",
      "SPEED               421771\n",
      "\n",
      "\u001b[1m\n",
      "=========================== Textcat F (per label) ===========================\u001b[0m\n",
      "\n",
      "                                      P        R        F\n",
      "PNEUMONIA                        100.00   100.00   100.00\n",
      "IMPETIGO                         100.00    71.43    83.33\n",
      "VARICOSE VEINS                   100.00    90.00    94.74\n",
      "FUNGAL INFECTION                 100.00   100.00   100.00\n",
      "JAUNDICE                         100.00   100.00   100.00\n",
      "DIMORPHIC HEMORRHOIDS            100.00   100.00   100.00\n",
      "MALARIA                          100.00   100.00   100.00\n",
      "PEPTIC ULCER DISEASE             100.00   100.00   100.00\n",
      "COMMON COLD                      100.00   100.00   100.00\n",
      "PSORIASIS                        100.00    60.00    75.00\n",
      "ALLERGY                          100.00   100.00   100.00\n",
      "CHICKEN POX                      100.00   100.00   100.00\n",
      "HYPERTENSION                     100.00   100.00   100.00\n",
      "DRUG REACTION                    100.00   100.00   100.00\n",
      "DIABETES                         100.00   100.00   100.00\n",
      "CERVICAL SPONDYLOSIS             100.00   100.00   100.00\n",
      "URINARY TRACT INFECTION          100.00    80.00    88.89\n",
      "ARTHRITIS                        100.00   100.00   100.00\n",
      "TYPHOID                          100.00   100.00   100.00\n",
      "DENGUE                            88.89   100.00    94.12\n",
      "MIGRAINE                         100.00   100.00   100.00\n",
      "GASTROESOPHAGEAL REFLUX DISEASE   100.00   100.00   100.00\n",
      "ACNE                             100.00   100.00   100.00\n",
      "BRONCHIAL ASTHMA                 100.00   100.00   100.00\n",
      "\n",
      "\u001b[1m\n",
      "======================== Textcat ROC AUC (per label) ========================\u001b[0m\n",
      "\n",
      "                                 ROC AUC\n",
      "PNEUMONIA                           1.00\n",
      "IMPETIGO                            1.00\n",
      "VARICOSE VEINS                      1.00\n",
      "FUNGAL INFECTION                    1.00\n",
      "JAUNDICE                            1.00\n",
      "DIMORPHIC HEMORRHOIDS               1.00\n",
      "MALARIA                             1.00\n",
      "PEPTIC ULCER DISEASE                1.00\n",
      "COMMON COLD                         1.00\n",
      "PSORIASIS                           1.00\n",
      "ALLERGY                             1.00\n",
      "CHICKEN POX                         1.00\n",
      "HYPERTENSION                        1.00\n",
      "DRUG REACTION                       1.00\n",
      "DIABETES                            1.00\n",
      "CERVICAL SPONDYLOSIS                1.00\n",
      "URINARY TRACT INFECTION             1.00\n",
      "ARTHRITIS                           1.00\n",
      "TYPHOID                             1.00\n",
      "DENGUE                              1.00\n",
      "MIGRAINE                            1.00\n",
      "GASTROESOPHAGEAL REFLUX DISEASE      1.00\n",
      "ACNE                                1.00\n",
      "BRONCHIAL ASTHMA                    1.00\n",
      "\n"
     ]
    }
   ],
   "source": [
    "# test the data on the test set \n",
    "\n",
    "!python -m spacy evaluate ./model/model-best/ ./test_data.spacy "
   ]
  },
  {
   "cell_type": "code",
   "execution_count": 23,
   "id": "c20927dc",
   "metadata": {},
   "outputs": [
    {
     "name": "stdout",
     "output_type": "stream",
     "text": [
      "I have been experiencing acidity, indigestion, headaches\n",
      "{'PNEUMONIA': 0.010443363338708878, 'IMPETIGO': 0.00251981895416975, 'VARICOSE VEINS': 0.010410028509795666, 'FUNGAL INFECTION': 0.013436523266136646, 'JAUNDICE': 0.03267307206988335, 'DIMORPHIC HEMORRHOIDS': 0.010466845706105232, 'MALARIA': 0.026393426582217216, 'PEPTIC ULCER DISEASE': 0.016425149515271187, 'COMMON COLD': 0.008905314840376377, 'PSORIASIS': 0.008089871145784855, 'ALLERGY': 0.0376221239566803, 'CHICKEN POX': 0.0039674220606684685, 'HYPERTENSION': 0.07068631798028946, 'DRUG REACTION': 0.030789611861109734, 'DIABETES': 0.006941908039152622, 'CERVICAL SPONDYLOSIS': 0.027056720107793808, 'URINARY TRACT INFECTION': 0.038606178015470505, 'ARTHRITIS': 0.02877870574593544, 'TYPHOID': 0.03485224395990372, 'DENGUE': 0.018169857561588287, 'MIGRAINE': 0.5283526182174683, 'GASTROESOPHAGEAL REFLUX DISEASE': 0.0102838771417737, 'ACNE': 0.009817141108214855, 'BRONCHIAL ASTHMA': 0.014311939477920532}\n",
      "\n",
      "Head hurting in left side of head, neck pain, shoulder pain and I am on my period\n",
      "{'PNEUMONIA': 0.0032363187056034803, 'IMPETIGO': 0.004135226830840111, 'VARICOSE VEINS': 0.02084394358098507, 'FUNGAL INFECTION': 0.0062622628174722195, 'JAUNDICE': 0.007716192398220301, 'DIMORPHIC HEMORRHOIDS': 0.008817869238555431, 'MALARIA': 0.006842784117907286, 'PEPTIC ULCER DISEASE': 0.0046204570680856705, 'COMMON COLD': 0.030807673931121826, 'PSORIASIS': 0.10407830774784088, 'ALLERGY': 0.010133545845746994, 'CHICKEN POX': 0.007946737110614777, 'HYPERTENSION': 0.1104530319571495, 'DRUG REACTION': 0.12175504118204117, 'DIABETES': 0.0007430867990478873, 'CERVICAL SPONDYLOSIS': 0.22617582976818085, 'URINARY TRACT INFECTION': 0.10100789368152618, 'ARTHRITIS': 0.0058846864849328995, 'TYPHOID': 0.039659496396780014, 'DENGUE': 0.089009590446949, 'MIGRAINE': 0.00574452942237258, 'GASTROESOPHAGEAL REFLUX DISEASE': 0.07865102589130402, 'ACNE': 0.0020949924364686012, 'BRONCHIAL ASTHMA': 0.00337957008741796}\n",
      "\n",
      "I have been experiencing a sore throat, a stuffy nose and I have a headache\n",
      "{'PNEUMONIA': 0.013353157788515091, 'IMPETIGO': 0.011681487783789635, 'VARICOSE VEINS': 0.004742427729070187, 'FUNGAL INFECTION': 0.005859700497239828, 'JAUNDICE': 0.011602472513914108, 'DIMORPHIC HEMORRHOIDS': 0.0027874414809048176, 'MALARIA': 0.07905503362417221, 'PEPTIC ULCER DISEASE': 0.01047462597489357, 'COMMON COLD': 0.05255880206823349, 'PSORIASIS': 0.003796327393501997, 'ALLERGY': 0.4223116636276245, 'CHICKEN POX': 0.003441939130425453, 'HYPERTENSION': 0.08589837700128555, 'DRUG REACTION': 0.006559724919497967, 'DIABETES': 0.019803255796432495, 'CERVICAL SPONDYLOSIS': 0.014585069380700588, 'URINARY TRACT INFECTION': 0.01299470104277134, 'ARTHRITIS': 0.005197303835302591, 'TYPHOID': 0.01819738931953907, 'DENGUE': 0.01944125071167946, 'MIGRAINE': 0.16451838612556458, 'GASTROESOPHAGEAL REFLUX DISEASE': 0.015421144664287567, 'ACNE': 0.0035884096287190914, 'BRONCHIAL ASTHMA': 0.012129813432693481}\n",
      "\n"
     ]
    }
   ],
   "source": [
    "# test out the model on data that the \"user\" aka me sets..\n",
    "# the closer the number is to 1 the more likely the text falls into that category \n",
    "\n",
    "import spacy \n",
    "trained_nlp = spacy.load(\"./model/model-best/\")\n",
    " \n",
    "text = [\"I have been experiencing acidity, indigestion, headaches\", \"Head hurting in left side of head, neck pain, shoulder pain and I am on my period\", \"I have been experiencing a sore throat, a stuffy nose and I have a headache\"]\n",
    "docs = list(trained_nlp.pipe(text))\n",
    "for doc in docs:\n",
    "    print(doc.text)\n",
    "    print(f\"{doc.cats}\\n\")\n"
   ]
  }
 ],
 "metadata": {
  "kernelspec": {
   "display_name": "Python 3 (ipykernel)",
   "language": "python",
   "name": "python3"
  },
  "language_info": {
   "codemirror_mode": {
    "name": "ipython",
    "version": 3
   },
   "file_extension": ".py",
   "mimetype": "text/x-python",
   "name": "python",
   "nbconvert_exporter": "python",
   "pygments_lexer": "ipython3",
   "version": "3.9.13"
  }
 },
 "nbformat": 4,
 "nbformat_minor": 5
}
